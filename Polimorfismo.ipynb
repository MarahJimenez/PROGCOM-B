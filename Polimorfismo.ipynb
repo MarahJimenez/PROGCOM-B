{
  "nbformat": 4,
  "nbformat_minor": 0,
  "metadata": {
    "colab": {
      "provenance": [],
      "authorship_tag": "ABX9TyMZlNLgum3U2d/LkSLuV4D3",
      "include_colab_link": true
    },
    "kernelspec": {
      "name": "python3",
      "display_name": "Python 3"
    },
    "language_info": {
      "name": "python"
    }
  },
  "cells": [
    {
      "cell_type": "markdown",
      "metadata": {
        "id": "view-in-github",
        "colab_type": "text"
      },
      "source": [
        "<a href=\"https://colab.research.google.com/github/MarahJimenez/PROGCOM-B/blob/main/Polimorfismo.ipynb\" target=\"_parent\"><img src=\"https://colab.research.google.com/assets/colab-badge.svg\" alt=\"Open In Colab\"/></a>"
      ]
    },
    {
      "cell_type": "code",
      "execution_count": 1,
      "metadata": {
        "colab": {
          "base_uri": "https://localhost:8080/"
        },
        "id": "WzYmzw2sk4U6",
        "outputId": "7f69eba6-9387-47da-972d-9ffd52545545"
      },
      "outputs": [
        {
          "output_type": "stream",
          "name": "stdout",
          "text": [
            "¡Guau! ¡Guau!\n",
            "Miau~\n"
          ]
        }
      ],
      "source": [
        "\n",
        "class Animal:\n",
        "    def hacer_sonido(self):\n",
        "        raise NotImplementedError(\"Este método debe ser implementado por una subclase\")\n",
        "\n",
        "\n",
        "class Perro(Animal):\n",
        "    def hacer_sonido(self):\n",
        "        return \"¡Guau! ¡Guau!\"\n",
        "\n",
        "class Gato(Animal):\n",
        "    def hacer_sonido(self):\n",
        "        return \"Miau~\"\n",
        "\n",
        "\n",
        "def emitir_sonido(animal):\n",
        "    print(animal.hacer_sonido())\n",
        "\n",
        "\n",
        "animales = [Perro(), Gato()]\n",
        "\n",
        "\n",
        "for animal in animales:\n",
        "    emitir_sonido(animal)\n"
      ]
    },
    {
      "cell_type": "markdown",
      "source": [
        "JAVA:\n"
      ],
      "metadata": {
        "id": "7ATC78XXsRi7"
      }
    },
    {
      "cell_type": "code",
      "source": [
        "\n",
        "abstract class Animal {\n",
        "    public abstract void hacerSonido();\n",
        "}\n",
        "\n",
        "\n",
        "class Perro extends Animal {\n",
        "    @Override\n",
        "    public void hacerSonido() {\n",
        "        System.out.println(\"¡Guau! ¡Guau!\");\n",
        "    }\n",
        "}\n",
        "\n",
        "\n",
        "class Gato extends Animal {\n",
        "    @Override\n",
        "    public void hacerSonido() {\n",
        "        System.out.println(\"Miau~\");\n",
        "    }\n",
        "}\n",
        "\n",
        "public class Main {\n",
        "    public static void main(String[] args) {\n",
        "        // Crear objetos de tipo Animal (pero con comportamiento de Perro y Gato)\n",
        "        Animal miPerro = new Perro();\n",
        "        Animal miGato = new Gato();\n",
        "\n",
        "        // Usar polimorfismo\n",
        "        miPerro.hacerSonido(); // Output: ¡Guau! ¡Guau!\n",
        "        miGato.hacerSonido();  // Output: Miau~\n",
        "    }\n",
        "}\n"
      ],
      "metadata": {
        "id": "taMQrmqpsTlJ"
      },
      "execution_count": null,
      "outputs": []
    },
    {
      "cell_type": "markdown",
      "source": [
        "EJERCICIO 2: PYTHON"
      ],
      "metadata": {
        "id": "0hh0pkGzslK5"
      }
    },
    {
      "cell_type": "code",
      "source": [
        "import math\n",
        "\n",
        "class Forma:\n",
        "    def calcular_area(self):\n",
        "        raise NotImplementedError(\"Este método debe ser implementado por la subclase.\")\n",
        "\n",
        "class Circulo(Forma):\n",
        "    def __init__(self, radio):\n",
        "        self.radio = radio\n",
        "\n",
        "    def calcular_area(self):\n",
        "        return math.pi * self.radio ** 2\n",
        "\n",
        "class Rectangulo(Forma):\n",
        "    def __init__(self, ancho, alto):\n",
        "        self.ancho = ancho\n",
        "        self.alto = alto\n",
        "\n",
        "    def calcular_area(self):\n",
        "        return self.ancho * self.alto\n",
        "\n",
        "def mostrar_area(forma):\n",
        "    print(\"Área:\", forma.calcular_area())\n",
        "\n",
        "\n",
        "formas = [Circulo(5), Rectangulo(4, 6)]\n",
        "\n",
        "for forma in formas:\n",
        "    mostrar_area(forma)\n"
      ],
      "metadata": {
        "colab": {
          "base_uri": "https://localhost:8080/"
        },
        "id": "iuqc_FZsskua",
        "outputId": "9858410e-5a31-4e06-e265-18f46865bee5"
      },
      "execution_count": 2,
      "outputs": [
        {
          "output_type": "stream",
          "name": "stdout",
          "text": [
            "Área: 78.53981633974483\n",
            "Área: 24\n"
          ]
        }
      ]
    },
    {
      "cell_type": "markdown",
      "source": [
        "EJERCICIO 2: JAVA"
      ],
      "metadata": {
        "id": "jS_56Y_Ms_ep"
      }
    },
    {
      "cell_type": "code",
      "source": [
        "\n",
        "abstract class Forma {\n",
        "    public abstract double calcularArea();\n",
        "}\n",
        "\n",
        "\n",
        "class Circulo extends Forma {\n",
        "    private double radio;\n",
        "\n",
        "    public Circulo(double radio) {\n",
        "        this.radio = radio;\n",
        "    }\n",
        "\n",
        "    @Override\n",
        "    public double calcularArea() {\n",
        "        return Math.PI * radio * radio;\n",
        "    }\n",
        "}\n",
        "\n",
        "\n",
        "class Rectangulo extends Forma {\n",
        "    private double ancho;\n",
        "    private double alto;\n",
        "\n",
        "    public Rectangulo(double ancho, double alto) {\n",
        "        this.ancho = ancho;\n",
        "        this.alto = alto;\n",
        "    }\n",
        "\n",
        "    @Override\n",
        "    public double calcularArea() {\n",
        "        return ancho * alto;\n",
        "    }\n",
        "}\n",
        "\n",
        "\n",
        "public class Main {\n",
        "    public static void main(String[] args) {\n",
        "        // Crear instancias de las formas\n",
        "        Forma miCirculo = new Circulo(5);\n",
        "        Forma miRectangulo = new Rectangulo(4, 6);\n",
        "\n",
        "        // Mostrar las áreas usando polimorfismo\n",
        "        System.out.println(\"Área del círculo: \" + miCirculo.calcularArea());\n",
        "        System.out.println(\"Área del rectángulo: \" + miRectangulo.calcularArea());\n",
        "    }\n",
        "}\n"
      ],
      "metadata": {
        "id": "MRXkn0FCtC8Z"
      },
      "execution_count": null,
      "outputs": []
    },
    {
      "cell_type": "code",
      "source": [
        "EJERCICIO 3"
      ],
      "metadata": {
        "id": "DLhRZp1DtKfQ"
      },
      "execution_count": null,
      "outputs": []
    },
    {
      "cell_type": "code",
      "source": [
        "import math\n",
        "\n",
        "\n",
        "class Forma:\n",
        "    def calcular_area(self):\n",
        "        raise NotImplementedError(\"Este método debe ser implementado por las subclases.\")\n",
        "\n",
        "\n",
        "class Circulo(Forma):\n",
        "    def __init__(self, radio):\n",
        "        self.radio = radio\n",
        "\n",
        "    def calcular_area(self):\n",
        "        return math.pi * self.radio ** 2\n",
        "\n",
        "class Rectangulo(Forma):\n",
        "    def __init__(self, ancho, alto):\n",
        "        self.ancho = ancho\n",
        "        self.alto = alto\n",
        "\n",
        "    def calcular_area(self):\n",
        "        return self.ancho * self.alto\n",
        "\n",
        "\n",
        "circulo = Circulo(5)         # radio = 5\n",
        "rectangulo = Rectangulo(4, 6) # ancho = 4, alto = 6\n",
        "\n",
        "\n",
        "formas = [circulo, rectangulo]\n",
        "\n",
        "for forma in formas:\n",
        "    print(f\"Área: {forma.calcular_area():.2f}\")\n"
      ],
      "metadata": {
        "colab": {
          "base_uri": "https://localhost:8080/"
        },
        "id": "fiVihrEitWzI",
        "outputId": "1fef11d6-6f95-4c8f-b902-bb0dd20a74a1"
      },
      "execution_count": 3,
      "outputs": [
        {
          "output_type": "stream",
          "name": "stdout",
          "text": [
            "Área: 78.54\n",
            "Área: 24.00\n"
          ]
        }
      ]
    },
    {
      "cell_type": "markdown",
      "source": [
        "EJERCCIO 3: JAVA"
      ],
      "metadata": {
        "id": "lpLQacJntlbY"
      }
    },
    {
      "cell_type": "code",
      "source": [
        "\n",
        "abstract class Forma {\n",
        "    public abstract double calcularArea();\n",
        "}\n",
        "\n",
        "\n",
        "class Circulo extends Forma {\n",
        "    private double radio;\n",
        "\n",
        "    public Circulo(double radio) {\n",
        "        this.radio = radio;\n",
        "    }\n",
        "\n",
        "    @Override\n",
        "    public double calcularArea() {\n",
        "        return Math.PI * radio * radio;\n",
        "    }\n",
        "}\n",
        "\n",
        "\n",
        "class Rectangulo extends Forma {\n",
        "    private double ancho;\n",
        "    private double alto;\n",
        "\n",
        "    public Rectangulo(double ancho, double alto) {\n",
        "        this.ancho = ancho;\n",
        "        this.alto = alto;\n",
        "    }\n",
        "\n",
        "    @Override\n",
        "    public double calcularArea() {\n",
        "        return ancho * alto;\n",
        "    }\n",
        "}\n",
        "\n",
        "\n",
        "public class Main {\n",
        "    public static void main(String[] args) {\n",
        "        // Crear objetos\n",
        "        Forma circulo = new Circulo(5);         // radio = 5\n",
        "        Forma rectangulo = new Rectangulo(4, 6); // ancho = 4, alto\n"
      ],
      "metadata": {
        "id": "yvJtqvN9trVI"
      },
      "execution_count": null,
      "outputs": []
    },
    {
      "cell_type": "markdown",
      "source": [
        "EJERCICIO 4:"
      ],
      "metadata": {
        "id": "yYG_47JCt1ao"
      }
    },
    {
      "cell_type": "code",
      "source": [
        "class Calculadora:\n",
        "\n",
        "    def sumar(self, *args):\n",
        "        return sum(args)\n",
        "\n",
        "\n",
        "    def multiplicar(self, *args):\n",
        "        resultado = 1\n",
        "        for num in args:\n",
        "            resultado *= num\n",
        "        return resultado\n",
        "\n",
        "calc = Calculadora()\n",
        "\n",
        "\n",
        "print(\"Suma de 2 + 3:\", calc.sumar(2, 3))\n",
        "print(\"Suma de 1 + 2 + 3 + 4:\", calc.sumar(1, 2, 3, 4))\n",
        "\n",
        "print(\"Multiplicación de 2 * 3:\", calc.multiplicar(2, 3))\n",
        "print(\"Multiplicación de 2 * 3 * 4:\", calc.multiplicar(2, 3, 4))\n"
      ],
      "metadata": {
        "colab": {
          "base_uri": "https://localhost:8080/"
        },
        "id": "JRDjK1dqt5MI",
        "outputId": "557b64b1-11bc-473b-9a1d-191528660a26"
      },
      "execution_count": 4,
      "outputs": [
        {
          "output_type": "stream",
          "name": "stdout",
          "text": [
            "Suma de 2 + 3: 5\n",
            "Suma de 1 + 2 + 3 + 4: 10\n",
            "Multiplicación de 2 * 3: 6\n",
            "Multiplicación de 2 * 3 * 4: 24\n"
          ]
        }
      ]
    },
    {
      "cell_type": "markdown",
      "source": [
        "EJERCICIO 4: JAVA"
      ],
      "metadata": {
        "id": "MtTVaW_kuHmY"
      }
    },
    {
      "cell_type": "code",
      "source": [
        "public class Calculadora {\n",
        "\n",
        "\n",
        "    public int sumar(int a, int b) {\n",
        "        return a + b;\n",
        "    }\n",
        "\n",
        "\n",
        "    public int sumar(int a, int b, int c) {\n",
        "        return a + b + c;\n",
        "    }\n",
        "\n",
        "    public int multiplicar(int a, int b) {\n",
        "        return a * b;\n",
        "    }\n",
        "\n",
        "    public int multiplicar(int a, int b, int c) {\n",
        "        return a * b * c;\n",
        "    }\n",
        "\n",
        "    public static void main(String[] args) {\n",
        "        Calculadora calc = new Calculadora();\n",
        "\n",
        "        System.out.println(\"Suma de 2 + 3: \" + calc.sumar(2, 3));\n",
        "        System.out.println(\"Suma de 1 + 2 + 3: \" + calc.sumar(1, 2, 3));\n",
        "\n",
        "        System.out.println(\"Multiplicación de 2 * 3: \" + calc.multiplicar(2, 3));\n",
        "        System.out.println(\"Multiplicación de 2 * 3 * 4: \" + calc.multiplicar(2, 3, 4));\n",
        "    }\n",
        "}\n"
      ],
      "metadata": {
        "id": "wtLvx-HouSyI"
      },
      "execution_count": null,
      "outputs": []
    },
    {
      "cell_type": "markdown",
      "source": [
        "EJERCICIO 5"
      ],
      "metadata": {
        "id": "QXOk_lyFuXlP"
      }
    },
    {
      "cell_type": "code",
      "source": [
        "\n",
        "class Figura:\n",
        "    def dibujar(self):\n",
        "        raise NotImplementedError(\"Este método debe ser implementado por las subclases.\")\n",
        "\n",
        "class Circulo(Figura):\n",
        "    def dibujar(self):\n",
        "        print(\"Dibujando un círculo \")\n",
        "\n",
        "\n",
        "class Rectangulo(Figura):\n",
        "    def dibujar(self):\n",
        "        print(\"Dibujando un rectángulo \")\n",
        "\n",
        "\n",
        "figuras = [Circulo(), Rectangulo()]\n",
        "\n",
        "\n",
        "for figura in figuras:\n",
        "    figura.dibujar()\n"
      ],
      "metadata": {
        "colab": {
          "base_uri": "https://localhost:8080/"
        },
        "id": "IBU7IBEfuaP_",
        "outputId": "7153d728-9890-4a45-bddc-ff702dc23b4d"
      },
      "execution_count": 5,
      "outputs": [
        {
          "output_type": "stream",
          "name": "stdout",
          "text": [
            "Dibujando un círculo \n",
            "Dibujando un rectángulo \n"
          ]
        }
      ]
    },
    {
      "cell_type": "markdown",
      "source": [
        "EJERCICIO 5: JAVA"
      ],
      "metadata": {
        "id": "QeZGNo2luqWf"
      }
    },
    {
      "cell_type": "code",
      "source": [
        "\n",
        "abstract class Figura {\n",
        "    public abstract void dibujar();\n",
        "}\n",
        "\n",
        "\n",
        "class Circulo extends Figura {\n",
        "    @Override\n",
        "    public void dibujar() {\n",
        "        System.out.println(\"Dibujando un círculo ⭕\");\n",
        "    }\n",
        "}\n",
        "\n",
        "class Rectangulo extends Figura {\n",
        "    @Override\n",
        "    public void dibujar() {\n",
        "        System.out.println(\"Dibujando un rectángulo ▭\");\n",
        "    }\n",
        "}\n",
        "\n",
        "\n",
        "public class Main {\n",
        "    public static void main(String[] args) {\n",
        "        // Crear objetos\n",
        "        Figura figura1 = new Circulo();\n",
        "        Figura figura2 = new Rectangulo();\n",
        "\n",
        "        // Arreglo de figuras\n",
        "        Figura[] figuras = { figura1, figura2 };\n",
        "\n",
        "        // Usar polimorfismo\n",
        "        for (Figura figura : figuras) {\n",
        "            figura.dibujar();\n",
        "        }\n",
        "    }\n",
        "}\n"
      ],
      "metadata": {
        "id": "gIaFYFoEu0dV"
      },
      "execution_count": null,
      "outputs": []
    },
    {
      "cell_type": "markdown",
      "source": [
        "ejercicio 6"
      ],
      "metadata": {
        "id": "Nj7Jlirou3dv"
      }
    },
    {
      "cell_type": "code",
      "source": [
        "\n",
        "class Empleado:\n",
        "    def trabajar(self):\n",
        "        raise NotImplementedError(\"Este método debe ser implementado por las subclases.\")\n",
        "\n",
        "\n",
        "class Gerente(Empleado):\n",
        "    def trabajar(self):\n",
        "        print(\"El gerente está supervisando al equipo y tomando decisiones estratégicas.\")\n",
        "\n",
        "\n",
        "class Desarrollador(Empleado):\n",
        "    def trabajar(self):\n",
        "        print(\"El desarrollador está escribiendo código y solucionando bugs.\")\n",
        "\n",
        "\n",
        "empleados = [Gerente(), Desarrollador()]\n",
        "\n",
        "for empleado in empleados:\n",
        "    empleado.trabajar()\n"
      ],
      "metadata": {
        "colab": {
          "base_uri": "https://localhost:8080/"
        },
        "id": "0-biHxlPu5kf",
        "outputId": "ae7e7856-bdc2-4bfe-ca03-a5267cc39da1"
      },
      "execution_count": 6,
      "outputs": [
        {
          "output_type": "stream",
          "name": "stdout",
          "text": [
            "El gerente está supervisando al equipo y tomando decisiones estratégicas.\n",
            "El desarrollador está escribiendo código y solucionando bugs.\n"
          ]
        }
      ]
    },
    {
      "cell_type": "markdown",
      "source": [
        "ejercicio 6: java"
      ],
      "metadata": {
        "id": "4vKKl_VNvE9-"
      }
    },
    {
      "cell_type": "code",
      "source": [
        "\n",
        "abstract class Empleado {\n",
        "    public abstract void trabajar();\n",
        "}\n",
        "\n",
        "\n",
        "class Gerente extends Empleado {\n",
        "    @Override\n",
        "    public void trabajar() {\n",
        "        System.out.println(\"El gerente está supervisando al equipo y tomando decisiones estratégicas.\");\n",
        "    }\n",
        "}\n",
        "\n",
        "class Desarrollador extends Empleado {\n",
        "    @Override\n",
        "    public void trabajar() {\n",
        "        System.out.println(\"El desarrollador está escribiendo código y solucionando bugs.\");\n",
        "    }\n",
        "}\n",
        "\n",
        "\n",
        "public class Main {\n",
        "    public static void main(String[] args) {\n",
        "\n",
        "        Empleado gerente = new Gerente();\n",
        "        Empleado desarrollador = new Desarrollador();\n",
        "\n",
        "\n",
        "        Empleado[] empleados = { gerente, desarrollador };\n",
        "\n",
        "\n",
        "        for (Empleado empleado : empleados) {\n",
        "            empleado.trabajar();\n",
        "        }\n",
        "    }\n",
        "}\n"
      ],
      "metadata": {
        "id": "RolGoptdvG9m"
      },
      "execution_count": null,
      "outputs": []
    },
    {
      "cell_type": "markdown",
      "source": [
        "EJERCICIO 7"
      ],
      "metadata": {
        "id": "2fmF0OyzvTSm"
      }
    },
    {
      "cell_type": "code",
      "source": [
        "\n",
        "class Fruta:\n",
        "    def describir(self):\n",
        "        raise NotImplementedError(\"Este método debe ser implementado por las subclases.\")\n",
        "\n",
        "class Manzana(Fruta):\n",
        "    def describir(self):\n",
        "        print(\"La manzana es roja o verde, dulce y crujiente.\")\n",
        "\n",
        "class Naranja(Fruta):\n",
        "    def describir(self):\n",
        "        print(\"La naranja es de color naranja, jugosa y ácida.\")\n",
        "\n",
        "\n",
        "frutas = [Manzana(), Naranja()]\n",
        "\n",
        "for fruta in frutas:\n",
        "    fruta.describir()\n"
      ],
      "metadata": {
        "colab": {
          "base_uri": "https://localhost:8080/"
        },
        "id": "IrZT8wbKvxqG",
        "outputId": "a41d5dd0-f8be-42d7-ab25-eb6f8dd73cd5"
      },
      "execution_count": 7,
      "outputs": [
        {
          "output_type": "stream",
          "name": "stdout",
          "text": [
            "La manzana es roja o verde, dulce y crujiente.\n",
            "La naranja es de color naranja, jugosa y ácida.\n"
          ]
        }
      ]
    },
    {
      "cell_type": "markdown",
      "source": [
        "ejercicio 7: java"
      ],
      "metadata": {
        "id": "lrN_IIt8v4IP"
      }
    },
    {
      "cell_type": "code",
      "source": [
        "// Clase base\n",
        "abstract class Fruta {\n",
        "    public abstract void describir();\n",
        "}\n",
        "\n",
        "// Clase derivada: Manzana\n",
        "class Manzana extends Fruta {\n",
        "    @Override\n",
        "    public void describir() {\n",
        "        System.out.println(\"La manzana es roja o verde, dulce y crujiente.\");\n",
        "    }\n",
        "}\n",
        "\n",
        "// Clase derivada: Naranja\n",
        "class Naranja extends Fruta {\n",
        "    @Override\n",
        "    public void describir() {\n",
        "        System.out.println(\"La naranja es de color naranja, jugosa y ácida.\");\n",
        "    }\n",
        "}\n",
        "\n",
        "// Clase principal\n",
        "public class Main {\n",
        "    public static void main(String[] args) {\n",
        "        // Crear objetos\n",
        "        Fruta manzana = new Manzana();\n",
        "        Fruta naranja = new Naranja();\n",
        "\n",
        "        // Arreglo de frutas\n",
        "        Fruta[] frutas = { manzana, naranja };\n",
        "\n",
        "        // Usar polimorfismo\n",
        "        for (Fruta fruta : frutas) {\n",
        "            fruta.describir();\n",
        "        }\n",
        "    }\n",
        "}\n"
      ],
      "metadata": {
        "id": "FV_mgd-Hv3x2"
      },
      "execution_count": null,
      "outputs": []
    },
    {
      "cell_type": "markdown",
      "source": [
        "ejercicio 8"
      ],
      "metadata": {
        "id": "MgMmw7qIwAGW"
      }
    },
    {
      "cell_type": "code",
      "source": [
        "\n",
        "class Pais:\n",
        "    def informar(self):\n",
        "        raise NotImplementedError(\"Este método debe ser implementado por las subclases.\")\n",
        "\n",
        "class PaisConCapital(Pais):\n",
        "    def __init__(self, nombre, capital):\n",
        "        self.nombre = nombre\n",
        "        self.capital = capital\n",
        "\n",
        "    def informar(self):\n",
        "        print(f\"El país es {self.nombre} y su capital es {self.capital}.\")\n",
        "\n",
        "\n",
        "pais1 = PaisConCapital(\"Francia\", \"París\")\n",
        "pais2 = PaisConCapital(\"Japón\", \"Tokio\")\n",
        "\n",
        "\n",
        "paises = [pais1, pais2]\n",
        "\n",
        "for pais in paises:\n",
        "    pais.informar()\n"
      ],
      "metadata": {
        "colab": {
          "base_uri": "https://localhost:8080/"
        },
        "id": "Mog1fKxbwBcl",
        "outputId": "03dee64d-abbc-4878-a3b2-3e9acbe666a0"
      },
      "execution_count": 8,
      "outputs": [
        {
          "output_type": "stream",
          "name": "stdout",
          "text": [
            "El país es Francia y su capital es París.\n",
            "El país es Japón y su capital es Tokio.\n"
          ]
        }
      ]
    },
    {
      "cell_type": "markdown",
      "source": [
        "ejercicio 8: java"
      ],
      "metadata": {
        "id": "NE_NqHiPwMo1"
      }
    },
    {
      "cell_type": "code",
      "source": [
        "// Clase base\n",
        "abstract class Pais {\n",
        "    public abstract void informar();\n",
        "}\n",
        "\n",
        "// Clase derivada: PaisConCapital\n",
        "class PaisConCapital extends Pais {\n",
        "    private String nombre;\n",
        "    private String capital;\n",
        "\n",
        "    public PaisConCapital(String nombre, String capital) {\n",
        "        this.nombre = nombre;\n",
        "        this.capital = capital;\n",
        "    }\n",
        "\n",
        "    @Override\n",
        "    public void informar() {\n",
        "        System.out.println(\"El país es \" + nombre + \" y su capital es \" + capital + \".\");\n",
        "    }\n",
        "}\n",
        "\n",
        "// Clase principal\n",
        "public class Main {\n",
        "    public static void main(String[] args) {\n",
        "        // Crear objetos\n",
        "        Pais pais1 = new PaisConCapital(\"Francia\", \"París\");\n",
        "        Pais pais2 = new PaisConCapital(\"Japón\", \"Tokio\");\n",
        "\n",
        "        // Arreglo de países\n",
        "        Pais[] paises = { pais1, pais2 };\n",
        "\n",
        "        // Usar polimorfismo\n",
        "        for (Pais pais : paises) {\n",
        "            pais.informar();\n",
        "        }\n",
        "    }\n",
        "}\n"
      ],
      "metadata": {
        "id": "HBajqR18wOaH"
      },
      "execution_count": null,
      "outputs": []
    },
    {
      "cell_type": "markdown",
      "source": [
        "ejercicio 9"
      ],
      "metadata": {
        "id": "54bA9TpWwTZl"
      }
    },
    {
      "cell_type": "code",
      "source": [
        "\n",
        "class Pais:\n",
        "    def idioma(self):\n",
        "        raise NotImplementedError(\"Este método debe ser implementado por las subclases.\")\n",
        "\n",
        "\n",
        "class Mexico(Pais):\n",
        "    def idioma(self):\n",
        "        return \"Español\"\n",
        "\n",
        "\n",
        "class Alemania(Pais):\n",
        "    def idioma(self):\n",
        "        return \"Alemán\"\n",
        "\n",
        "\n",
        "paises = [Mexico(), Alemania()]\n",
        "\n",
        "\n",
        "for pais in paises:\n",
        "    print(f\"El idioma principal en {pais.__class__.__name__} es {pais.idioma()}.\")\n"
      ],
      "metadata": {
        "colab": {
          "base_uri": "https://localhost:8080/"
        },
        "id": "WDLhle2hwUqF",
        "outputId": "571aca18-7d7c-481a-e66d-acaa87a62b9f"
      },
      "execution_count": 9,
      "outputs": [
        {
          "output_type": "stream",
          "name": "stdout",
          "text": [
            "El idioma principal en Mexico es Español.\n",
            "El idioma principal en Alemania es Alemán.\n"
          ]
        }
      ]
    },
    {
      "cell_type": "markdown",
      "source": [
        "ejercicio 9: java"
      ],
      "metadata": {
        "id": "oqww9ZNkwj51"
      }
    },
    {
      "cell_type": "code",
      "source": [
        "// Clase base\n",
        "abstract class Pais {\n",
        "    public abstract String idioma();\n",
        "}\n",
        "\n",
        "// Clase derivada: Mexico\n",
        "class Mexico extends Pais {\n",
        "    @Override\n",
        "    public String idioma() {\n",
        "        return \"Español\";\n",
        "    }\n",
        "}\n",
        "\n",
        "// Clase derivada: Alemania\n",
        "class Alemania extends Pais {\n",
        "    @Override\n",
        "    public String idioma() {\n",
        "        return \"Alemán\";\n",
        "    }\n",
        "}\n",
        "\n",
        "// Clase principal\n",
        "public class Main {\n",
        "    public static void main(String[] args) {\n",
        "        // Crear objetos\n",
        "        Pais mexico = new Mexico();\n",
        "        Pais alemania = new Alemania();\n",
        "\n",
        "        // Arreglo de países\n",
        "        Pais[] paises = { mexico, alemania };\n",
        "\n",
        "        // Usar polimorfismo\n",
        "        for (Pais pais : paises) {\n",
        "            System.out.println(\"El idioma principal en \" + pais.getClass().getSimpleName() + \" es \" + pais.idioma() + \".\");\n",
        "        }\n",
        "    }\n",
        "}\n"
      ],
      "metadata": {
        "id": "kpwZKNhjwlzt"
      },
      "execution_count": null,
      "outputs": []
    },
    {
      "cell_type": "markdown",
      "source": [
        "ejercicio 10"
      ],
      "metadata": {
        "id": "fQy7iX7bword"
      }
    },
    {
      "cell_type": "code",
      "source": [
        "# Clase base\n",
        "class Notificacion:\n",
        "    def enviar(self, mensaje):\n",
        "        raise NotImplementedError(\"Este método debe ser implementado por las subclases.\")\n",
        "\n",
        "# Clase derivada: CorreoElectronico\n",
        "class CorreoElectronico(Notificacion):\n",
        "    def enviar(self, mensaje):\n",
        "        print(f\"Enviando correo electrónico con el mensaje: {mensaje}\")\n",
        "\n",
        "# Clase derivada: SMS\n",
        "class SMS(Notificacion):\n",
        "    def enviar(self, mensaje):\n",
        "        print(f\"Enviando SMS con el mensaje: {mensaje}\")\n",
        "\n",
        "# Clase derivada: AplicacionMovil\n",
        "class AplicacionMovil(Notificacion):\n",
        "    def enviar(self, mensaje):\n",
        "        print(f\"Enviando notificación en la aplicación móvil: {mensaje}\")\n",
        "\n",
        "# Crear objetos\n",
        "notificaciones = [\n",
        "    CorreoElectronico(),\n",
        "    SMS(),\n",
        "    AplicacionMovil()\n",
        "]\n",
        "\n",
        "# Usar polimorfismo\n",
        "mensaje = \"¡Hola! Tienes una nueva actualización.\"\n",
        "for notificacion in notificaciones:\n",
        "    notificacion.enviar(mensaje)\n"
      ],
      "metadata": {
        "colab": {
          "base_uri": "https://localhost:8080/"
        },
        "id": "S7_yzG77wqMV",
        "outputId": "f8f4d44b-0455-4e40-f3e6-d05dfedb4748"
      },
      "execution_count": 10,
      "outputs": [
        {
          "output_type": "stream",
          "name": "stdout",
          "text": [
            "Enviando correo electrónico con el mensaje: ¡Hola! Tienes una nueva actualización.\n",
            "Enviando SMS con el mensaje: ¡Hola! Tienes una nueva actualización.\n",
            "Enviando notificación en la aplicación móvil: ¡Hola! Tienes una nueva actualización.\n"
          ]
        }
      ]
    },
    {
      "cell_type": "markdown",
      "source": [
        "ejercicio 10: java"
      ],
      "metadata": {
        "id": "5Qsr48rtw0Qu"
      }
    },
    {
      "cell_type": "code",
      "source": [
        "// Clase base\n",
        "abstract class Notificacion {\n",
        "    public abstract void enviar(String mensaje);\n",
        "}\n",
        "\n",
        "// Clase derivada: CorreoElectronico\n",
        "class CorreoElectronico extends Notificacion {\n",
        "    @Override\n",
        "    public void enviar(String mensaje) {\n",
        "        System.out.println(\"Enviando correo electrónico con el mensaje: \" + mensaje);\n",
        "    }\n",
        "}\n",
        "\n",
        "// Clase derivada: SMS\n",
        "class SMS extends Notificacion {\n",
        "    @Override\n",
        "    public void enviar(String mensaje) {\n",
        "        System.out.println(\"Enviando SMS con el mensaje: \" + mensaje);\n",
        "    }\n",
        "}\n",
        "\n",
        "// Clase derivada: AplicacionMovil\n",
        "class AplicacionMovil extends Notificacion {\n",
        "    @Override\n",
        "    public void enviar(String mensaje) {\n",
        "        System.out.println(\"Enviando notificación en la aplicación móvil: \" + mensaje);\n",
        "    }\n",
        "}\n",
        "\n",
        "// Clase principal\n",
        "public class Main {\n",
        "    public static void main(String[] args) {\n",
        "        // Crear objetos\n",
        "        Notificacion correo = new CorreoElectronico();\n",
        "        Notificacion sms = new SMS();\n",
        "        Notificacion aplicacion = new AplicacionMovil();\n",
        "\n",
        "        // Arreglo de notificaciones\n",
        "        Notificacion[] notificaciones = {correo, sms, aplicacion};\n",
        "\n",
        "        // Usar polimorfismo\n",
        "        String mensaje = \"¡Hola! Tienes una nueva actualización.\";\n",
        "        for (Notificacion notificacion : notificaciones) {\n",
        "            notificacion.enviar(mensaje);\n",
        "        }\n",
        "    }\n",
        "}\n"
      ],
      "metadata": {
        "id": "tFnqDc-Yw2DN"
      },
      "execution_count": null,
      "outputs": []
    }
  ]
}